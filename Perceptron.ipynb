{
  "nbformat": 4,
  "nbformat_minor": 0,
  "metadata": {
    "colab": {
      "name": "Perceptron.ipynb",
      "provenance": [],
      "collapsed_sections": [],
      "authorship_tag": "ABX9TyN+VlIIgWr5ZFsz5kZ3QSZj",
      "include_colab_link": true
    },
    "kernelspec": {
      "name": "python3",
      "display_name": "Python 3"
    }
  },
  "cells": [
    {
      "cell_type": "markdown",
      "metadata": {
        "id": "view-in-github",
        "colab_type": "text"
      },
      "source": [
        "<a href=\"https://colab.research.google.com/github/victvist/Data-Science/blob/master/Perceptron.ipynb\" target=\"_parent\"><img src=\"https://colab.research.google.com/assets/colab-badge.svg\" alt=\"Open In Colab\"/></a>"
      ]
    },
    {
      "cell_type": "code",
      "metadata": {
        "id": "BqVXMesdL6xG",
        "colab_type": "code",
        "colab": {}
      },
      "source": [
        "import os \n",
        "import pandas as pd"
      ],
      "execution_count": 2,
      "outputs": []
    },
    {
      "cell_type": "code",
      "metadata": {
        "id": "6ghQiAmmMXdn",
        "colab_type": "code",
        "colab": {
          "base_uri": "https://localhost:8080/",
          "height": 255
        },
        "outputId": "59f2fbca-b677-4557-f22a-4f7258a5355d"
      },
      "source": [
        "file = 'https://archive.ics.uci.edu/ml/machine-learning-databases/iris/iris.data'\n",
        "df = pd.read_csv(file, header = None, encoding= 'utf-8')\n",
        "print(df)"
      ],
      "execution_count": 3,
      "outputs": [
        {
          "output_type": "stream",
          "text": [
            "       0    1    2    3               4\n",
            "0    5.1  3.5  1.4  0.2     Iris-setosa\n",
            "1    4.9  3.0  1.4  0.2     Iris-setosa\n",
            "2    4.7  3.2  1.3  0.2     Iris-setosa\n",
            "3    4.6  3.1  1.5  0.2     Iris-setosa\n",
            "4    5.0  3.6  1.4  0.2     Iris-setosa\n",
            "..   ...  ...  ...  ...             ...\n",
            "145  6.7  3.0  5.2  2.3  Iris-virginica\n",
            "146  6.3  2.5  5.0  1.9  Iris-virginica\n",
            "147  6.5  3.0  5.2  2.0  Iris-virginica\n",
            "148  6.2  3.4  5.4  2.3  Iris-virginica\n",
            "149  5.9  3.0  5.1  1.8  Iris-virginica\n",
            "\n",
            "[150 rows x 5 columns]\n"
          ],
          "name": "stdout"
        }
      ]
    },
    {
      "cell_type": "code",
      "metadata": {
        "id": "E9ZKyMN2Md66",
        "colab_type": "code",
        "colab": {
          "base_uri": "https://localhost:8080/",
          "height": 204
        },
        "outputId": "7e7b99a6-1332-44c2-d804-50d9129e137d"
      },
      "source": [
        "df.tail()"
      ],
      "execution_count": 4,
      "outputs": [
        {
          "output_type": "execute_result",
          "data": {
            "text/html": [
              "<div>\n",
              "<style scoped>\n",
              "    .dataframe tbody tr th:only-of-type {\n",
              "        vertical-align: middle;\n",
              "    }\n",
              "\n",
              "    .dataframe tbody tr th {\n",
              "        vertical-align: top;\n",
              "    }\n",
              "\n",
              "    .dataframe thead th {\n",
              "        text-align: right;\n",
              "    }\n",
              "</style>\n",
              "<table border=\"1\" class=\"dataframe\">\n",
              "  <thead>\n",
              "    <tr style=\"text-align: right;\">\n",
              "      <th></th>\n",
              "      <th>0</th>\n",
              "      <th>1</th>\n",
              "      <th>2</th>\n",
              "      <th>3</th>\n",
              "      <th>4</th>\n",
              "    </tr>\n",
              "  </thead>\n",
              "  <tbody>\n",
              "    <tr>\n",
              "      <th>145</th>\n",
              "      <td>6.7</td>\n",
              "      <td>3.0</td>\n",
              "      <td>5.2</td>\n",
              "      <td>2.3</td>\n",
              "      <td>Iris-virginica</td>\n",
              "    </tr>\n",
              "    <tr>\n",
              "      <th>146</th>\n",
              "      <td>6.3</td>\n",
              "      <td>2.5</td>\n",
              "      <td>5.0</td>\n",
              "      <td>1.9</td>\n",
              "      <td>Iris-virginica</td>\n",
              "    </tr>\n",
              "    <tr>\n",
              "      <th>147</th>\n",
              "      <td>6.5</td>\n",
              "      <td>3.0</td>\n",
              "      <td>5.2</td>\n",
              "      <td>2.0</td>\n",
              "      <td>Iris-virginica</td>\n",
              "    </tr>\n",
              "    <tr>\n",
              "      <th>148</th>\n",
              "      <td>6.2</td>\n",
              "      <td>3.4</td>\n",
              "      <td>5.4</td>\n",
              "      <td>2.3</td>\n",
              "      <td>Iris-virginica</td>\n",
              "    </tr>\n",
              "    <tr>\n",
              "      <th>149</th>\n",
              "      <td>5.9</td>\n",
              "      <td>3.0</td>\n",
              "      <td>5.1</td>\n",
              "      <td>1.8</td>\n",
              "      <td>Iris-virginica</td>\n",
              "    </tr>\n",
              "  </tbody>\n",
              "</table>\n",
              "</div>"
            ],
            "text/plain": [
              "       0    1    2    3               4\n",
              "145  6.7  3.0  5.2  2.3  Iris-virginica\n",
              "146  6.3  2.5  5.0  1.9  Iris-virginica\n",
              "147  6.5  3.0  5.2  2.0  Iris-virginica\n",
              "148  6.2  3.4  5.4  2.3  Iris-virginica\n",
              "149  5.9  3.0  5.1  1.8  Iris-virginica"
            ]
          },
          "metadata": {
            "tags": []
          },
          "execution_count": 4
        }
      ]
    },
    {
      "cell_type": "code",
      "metadata": {
        "id": "oLXEkj0SMkFx",
        "colab_type": "code",
        "colab": {
          "base_uri": "https://localhost:8080/",
          "height": 1000
        },
        "outputId": "08d204bc-9ab9-4662-aaf1-2bcb7c7414ba"
      },
      "source": [
        "df.iloc[ :50,4], df.iloc[50:100,4], df.iloc[100:,4]"
      ],
      "execution_count": 6,
      "outputs": [
        {
          "output_type": "execute_result",
          "data": {
            "text/plain": [
              "(0     Iris-setosa\n",
              " 1     Iris-setosa\n",
              " 2     Iris-setosa\n",
              " 3     Iris-setosa\n",
              " 4     Iris-setosa\n",
              " 5     Iris-setosa\n",
              " 6     Iris-setosa\n",
              " 7     Iris-setosa\n",
              " 8     Iris-setosa\n",
              " 9     Iris-setosa\n",
              " 10    Iris-setosa\n",
              " 11    Iris-setosa\n",
              " 12    Iris-setosa\n",
              " 13    Iris-setosa\n",
              " 14    Iris-setosa\n",
              " 15    Iris-setosa\n",
              " 16    Iris-setosa\n",
              " 17    Iris-setosa\n",
              " 18    Iris-setosa\n",
              " 19    Iris-setosa\n",
              " 20    Iris-setosa\n",
              " 21    Iris-setosa\n",
              " 22    Iris-setosa\n",
              " 23    Iris-setosa\n",
              " 24    Iris-setosa\n",
              " 25    Iris-setosa\n",
              " 26    Iris-setosa\n",
              " 27    Iris-setosa\n",
              " 28    Iris-setosa\n",
              " 29    Iris-setosa\n",
              " 30    Iris-setosa\n",
              " 31    Iris-setosa\n",
              " 32    Iris-setosa\n",
              " 33    Iris-setosa\n",
              " 34    Iris-setosa\n",
              " 35    Iris-setosa\n",
              " 36    Iris-setosa\n",
              " 37    Iris-setosa\n",
              " 38    Iris-setosa\n",
              " 39    Iris-setosa\n",
              " 40    Iris-setosa\n",
              " 41    Iris-setosa\n",
              " 42    Iris-setosa\n",
              " 43    Iris-setosa\n",
              " 44    Iris-setosa\n",
              " 45    Iris-setosa\n",
              " 46    Iris-setosa\n",
              " 47    Iris-setosa\n",
              " 48    Iris-setosa\n",
              " 49    Iris-setosa\n",
              " Name: 4, dtype: object, 50    Iris-versicolor\n",
              " 51    Iris-versicolor\n",
              " 52    Iris-versicolor\n",
              " 53    Iris-versicolor\n",
              " 54    Iris-versicolor\n",
              " 55    Iris-versicolor\n",
              " 56    Iris-versicolor\n",
              " 57    Iris-versicolor\n",
              " 58    Iris-versicolor\n",
              " 59    Iris-versicolor\n",
              " 60    Iris-versicolor\n",
              " 61    Iris-versicolor\n",
              " 62    Iris-versicolor\n",
              " 63    Iris-versicolor\n",
              " 64    Iris-versicolor\n",
              " 65    Iris-versicolor\n",
              " 66    Iris-versicolor\n",
              " 67    Iris-versicolor\n",
              " 68    Iris-versicolor\n",
              " 69    Iris-versicolor\n",
              " 70    Iris-versicolor\n",
              " 71    Iris-versicolor\n",
              " 72    Iris-versicolor\n",
              " 73    Iris-versicolor\n",
              " 74    Iris-versicolor\n",
              " 75    Iris-versicolor\n",
              " 76    Iris-versicolor\n",
              " 77    Iris-versicolor\n",
              " 78    Iris-versicolor\n",
              " 79    Iris-versicolor\n",
              " 80    Iris-versicolor\n",
              " 81    Iris-versicolor\n",
              " 82    Iris-versicolor\n",
              " 83    Iris-versicolor\n",
              " 84    Iris-versicolor\n",
              " 85    Iris-versicolor\n",
              " 86    Iris-versicolor\n",
              " 87    Iris-versicolor\n",
              " 88    Iris-versicolor\n",
              " 89    Iris-versicolor\n",
              " 90    Iris-versicolor\n",
              " 91    Iris-versicolor\n",
              " 92    Iris-versicolor\n",
              " 93    Iris-versicolor\n",
              " 94    Iris-versicolor\n",
              " 95    Iris-versicolor\n",
              " 96    Iris-versicolor\n",
              " 97    Iris-versicolor\n",
              " 98    Iris-versicolor\n",
              " 99    Iris-versicolor\n",
              " Name: 4, dtype: object, 100    Iris-virginica\n",
              " 101    Iris-virginica\n",
              " 102    Iris-virginica\n",
              " 103    Iris-virginica\n",
              " 104    Iris-virginica\n",
              " 105    Iris-virginica\n",
              " 106    Iris-virginica\n",
              " 107    Iris-virginica\n",
              " 108    Iris-virginica\n",
              " 109    Iris-virginica\n",
              " 110    Iris-virginica\n",
              " 111    Iris-virginica\n",
              " 112    Iris-virginica\n",
              " 113    Iris-virginica\n",
              " 114    Iris-virginica\n",
              " 115    Iris-virginica\n",
              " 116    Iris-virginica\n",
              " 117    Iris-virginica\n",
              " 118    Iris-virginica\n",
              " 119    Iris-virginica\n",
              " 120    Iris-virginica\n",
              " 121    Iris-virginica\n",
              " 122    Iris-virginica\n",
              " 123    Iris-virginica\n",
              " 124    Iris-virginica\n",
              " 125    Iris-virginica\n",
              " 126    Iris-virginica\n",
              " 127    Iris-virginica\n",
              " 128    Iris-virginica\n",
              " 129    Iris-virginica\n",
              " 130    Iris-virginica\n",
              " 131    Iris-virginica\n",
              " 132    Iris-virginica\n",
              " 133    Iris-virginica\n",
              " 134    Iris-virginica\n",
              " 135    Iris-virginica\n",
              " 136    Iris-virginica\n",
              " 137    Iris-virginica\n",
              " 138    Iris-virginica\n",
              " 139    Iris-virginica\n",
              " 140    Iris-virginica\n",
              " 141    Iris-virginica\n",
              " 142    Iris-virginica\n",
              " 143    Iris-virginica\n",
              " 144    Iris-virginica\n",
              " 145    Iris-virginica\n",
              " 146    Iris-virginica\n",
              " 147    Iris-virginica\n",
              " 148    Iris-virginica\n",
              " 149    Iris-virginica\n",
              " Name: 4, dtype: object)"
            ]
          },
          "metadata": {
            "tags": []
          },
          "execution_count": 6
        }
      ]
    },
    {
      "cell_type": "code",
      "metadata": {
        "id": "CcTFCc88My3k",
        "colab_type": "code",
        "colab": {}
      },
      "source": [
        "#%matplotlib inline \n",
        "import matplotlib.pyplot as plt \n",
        "import numpy as np \n",
        "\n",
        "y = df.iloc[0:100,4].values \n",
        "y = np.where(y == 'Iris-setosa', 0, 1) \n",
        "X = df.iloc[0:100, [0, 2]].values"
      ],
      "execution_count": 7,
      "outputs": []
    },
    {
      "cell_type": "code",
      "metadata": {
        "id": "Nb2cSWlaNVDO",
        "colab_type": "code",
        "colab": {
          "base_uri": "https://localhost:8080/",
          "height": 280
        },
        "outputId": "6fe5c0e9-31ed-4027-ea7d-1766454fbda6"
      },
      "source": [
        "plt.scatter(X[:50, 0], X[:50, 1], color = 'red', marker = 'o', label='setosa')\n",
        "plt.scatter(X[50:100, 0], X[50:100, 1], color = 'blue', marker = 'x', label='versicolor')\n",
        "\n",
        "plt.xlabel('longitud del sépalo [cm]')\n",
        "plt.ylabel('longitud del pétalo [cm]')\n",
        "plt.legend(loc='upper left')\n",
        "\n",
        "plt.show()"
      ],
      "execution_count": 8,
      "outputs": [
        {
          "output_type": "display_data",
          "data": {
            "image/png": "[encoded data removed]",
            "text/plain": [
              "<Figure size 432x288 with 1 Axes>"
            ]
          },
          "metadata": {
            "tags": [],
            "needs_background": "light"
          }
        }
      ]
    },
    {
      "cell_type": "markdown",
      "metadata": {
        "id": "bgkZ0utoNfBu",
        "colab_type": "text"
      },
      "source": [
        "## **Perceptrón**"
      ]
    },
    {
      "cell_type": "code",
      "metadata": {
        "id": "3qvgEIpfNjaj",
        "colab_type": "code",
        "colab": {}
      },
      "source": [
        "class Perceptron(object):\n",
        "\n",
        "  def __init__(self, eta = 0.01, epochs = 50, seed = 1):\n",
        "    self.eta = eta\n",
        "    self.epochs = epochs\n",
        "    self.seed = seed\n",
        "\n",
        "  def fit(self, X, y): \n",
        "    rgen = np.random.RandomState(self.seed)\n",
        "    self.w = rgen.normal(loc = 0.0, scale=0.01, size = X.shape[1]) #Lista con dos elementos\n",
        "    self.b = rgen.normal(loc = 0.0, scale=0.01, size = 1) #Lista con un elemento\n",
        "    self.errors = []\n",
        "\n",
        "    for _ in range(self.epochs): #Criterio de paro\n",
        "      errors = 0\n",
        "      for xi, target in zip(X, y):\n",
        "        update = self.eta * (target - self.predict(xi))\n",
        "        self.w[:] = self.w[:] + update * xi\n",
        "        #self.w[:] += update * xi\n",
        "        #self.b += update\n",
        "        self.b = self.b + update\n",
        "        errors = errors + int(update != 0.0)\n",
        "        #errors += int(update != 0.0)\n",
        "      self.errors.append(errors)\n",
        "\n",
        "    return self #Fin de la función fit\n",
        "\n",
        "  def net_input(self, X):\n",
        "    #Calculamos la entrada neta\n",
        "    return np.dot(X, self.w[:]) + self.b\n",
        "    \n",
        "  def predict(self, X):\n",
        "    #Realizamos la predicción\n",
        "    return np.where(self.net_input(X) >= 0.0, 1, 0)"
      ],
      "execution_count": 9,
      "outputs": []
    },
    {
      "cell_type": "code",
      "metadata": {
        "id": "9bEBLeSnOZrq",
        "colab_type": "code",
        "colab": {
          "base_uri": "https://localhost:8080/",
          "height": 298
        },
        "outputId": "477196a1-e86b-4c2f-b900-9ebe18ce5ca9"
      },
      "source": [
        "perceptron = Perceptron(eta = 0.1, epochs = 10)\n",
        "perceptron.fit(X, y)\n",
        "\n",
        "plt.plot(range(1, len(perceptron.errors) + 1), perceptron.errors, marker = 'o')\n",
        "plt.xlabel(\"Épocas\")\n",
        "plt.ylabel(\"Número de actualizaciones/errores\")"
      ],
      "execution_count": 10,
      "outputs": [
        {
          "output_type": "execute_result",
          "data": {
            "text/plain": [
              "Text(0, 0.5, 'Número de actualizaciones/errores')"
            ]
          },
          "metadata": {
            "tags": []
          },
          "execution_count": 10
        },
        {
          "output_type": "display_data",
          "data": {
            "image/png": "[encoded data removed]",
            "text/plain": [
              "<Figure size 432x288 with 1 Axes>"
            ]
          },
          "metadata": {
            "tags": [],
            "needs_background": "light"
          }
        }
      ]
    },
    {
      "cell_type": "code",
      "metadata": {
        "id": "dEB05fyMOzFg",
        "colab_type": "code",
        "colab": {}
      },
      "source": [
        "from matplotlib.colors import ListedColormap\n",
        "\n",
        "def plot_decision_regions(X, y, classifier, resolution=0.02):\n",
        "\n",
        "    markers = ('s', 'x', 'o', '^', 'v')\n",
        "    colors = ('red', 'blue', 'lightgreen', 'gray', 'cyan')\n",
        "    cmap = ListedColormap(colors[:len(np.unique(y))])\n",
        "\n",
        "    x1_min, x1_max = X[:, 0].min() - 1, X[:, 0].max() + 1\n",
        "    x2_min, x2_max = X[:, 1].min() - 1, X[:, 1].max() + 1\n",
        "    xx1, xx2 = np.meshgrid(np.arange(x1_min, x1_max, resolution),\n",
        "                           np.arange(x2_min, x2_max, resolution))\n",
        "    Z = classifier.predict(np.array([xx1.ravel(), xx2.ravel()]).T)\n",
        "    Z = Z.reshape(xx1.shape)\n",
        "    plt.contourf(xx1, xx2, Z, alpha=0.3, cmap=cmap) \n",
        "    plt.xlim(xx1.min(), xx1.max())\n",
        "    plt.ylim(xx2.min(), xx2.max())\n",
        "\n",
        "    for idx, cl in enumerate(np.unique(y)):\n",
        "        plt.scatter(x=X[y == cl, 0], \n",
        "                    y=X[y == cl, 1],\n",
        "                    alpha=0.8, \n",
        "                    c=colors[idx],\n",
        "                    marker=markers[idx], \n",
        "                    label=cl, \n",
        "                    edgecolor='black')"
      ],
      "execution_count": 11,
      "outputs": []
    },
    {
      "cell_type": "code",
      "metadata": {
        "id": "51OaK14CPHdr",
        "colab_type": "code",
        "colab": {
          "base_uri": "https://localhost:8080/",
          "height": 280
        },
        "outputId": "cec1d2a5-379e-4c54-fe10-792a2200be5b"
      },
      "source": [
        "plot_decision_regions(X, y, classifier=perceptron)\n",
        "plt.xlabel('sepal length [cm]')\n",
        "plt.ylabel('petal length [cm]')\n",
        "plt.legend(loc='upper left')\n",
        "\n",
        "plt.show()"
      ],
      "execution_count": 13,
      "outputs": [
        {
          "output_type": "display_data",
          "data": {
            "image/png": "[encoded data removed]",
            "text/plain": [
              "<Figure size 432x288 with 1 Axes>"
            ]
          },
          "metadata": {
            "tags": [],
            "needs_background": "light"
          }
        }
      ]
    }
  ]
}