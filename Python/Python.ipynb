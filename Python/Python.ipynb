{
  "nbformat": 4,
  "nbformat_minor": 0,
  "metadata": {
    "colab": {
      "name": "Python",
      "provenance": []
    },
    "kernelspec": {
      "name": "python3",
      "display_name": "Python 3"
    },
    "language_info": {
      "name": "python"
    }
  },
  "cells": [
    {
      "cell_type": "code",
      "metadata": {
        "colab": {
          "base_uri": "https://localhost:8080/"
        },
        "id": "s5uc9SuY0aqh",
        "outputId": "4ba3bb51-5d38-452a-a1c7-740cf8add835"
      },
      "source": [
        "a = 10    # Integer \n",
        "b = -9    # Integer can be negative \n",
        "c = 0b011 # Integer can be Binary \n",
        "d = 0o123 # Integer can be Octal \n",
        "e = 0x9AF # Integer can be Hexadecimal\n",
        "\n",
        "print(\"Positive Integer = \",a, \" | \", type(a)) \n",
        "print(\"Negative Integer = \",b, \" | \", type(b)) \n",
        "print(\"Binary Integer = \",c, \" | \", type(c)) \n",
        "print(\"Octal Integer = \",d, \" | \", type(d)) \n",
        "print(\"Hexadecimal Integer = \",e, \" | \", type(e))"
      ],
      "execution_count": 2,
      "outputs": [
        {
          "output_type": "stream",
          "name": "stdout",
          "text": [
            "Positive Integer =  10  |  <class 'int'>\n",
            "Negative Integer =  -9  |  <class 'int'>\n",
            "Binary Integer =  3  |  <class 'int'>\n",
            "Octal Integer =  83  |  <class 'int'>\n",
            "Hexadecimal Integer =  2479  |  <class 'int'>\n"
          ]
        }
      ]
    },
    {
      "cell_type": "code",
      "metadata": {
        "id": "dvQiD_mY0edA"
      },
      "source": [
        "in1 = 1+2j            # Complex Number \n",
        "fl1 = 0.78            # Float \n",
        "fl2 = 2.6e-2          # Float with scientific notation. e means 10^ \n",
        "fl3 = 1.8*10**308 +1  # One greater than the maximum float \n",
        "bl1 = True            # Boolean True \n",
        "bl2 = False           # Boolean False \n",
        "st1 = \"Hello World!\"  # String \n",
        "bt1 = b\"hola\"         # Byte"
      ],
      "execution_count": 3,
      "outputs": []
    },
    {
      "cell_type": "code",
      "metadata": {
        "id": "tTPjtXtr0mH2"
      },
      "source": [
        "str1 = \"I am a string\" \n",
        "str2 = 'I too am a string' \n",
        "str3 = \"\" \n",
        "str4 = str1 + ' ' + str2"
      ],
      "execution_count": 4,
      "outputs": []
    }
  ]
}