{
  "nbformat": 4,
  "nbformat_minor": 0,
  "metadata": {
    "colab": {
      "name": "Advertising.ipynb",
      "provenance": [],
      "collapsed_sections": []
    },
    "kernelspec": {
      "name": "python3",
      "display_name": "Python 3"
    },
    "language_info": {
      "name": "python"
    }
  },
  "cells": [
    {
      "cell_type": "code",
      "metadata": {
        "id": "vt5Cqat1xfXo",
        "colab": {
          "base_uri": "https://localhost:8080/"
        },
        "outputId": "709e789e-c847-45a9-c881-1204feae9fbb"
      },
      "source": [
        "import pandas as pd\n",
        "import numpy as np\n",
        "import seaborn as sns\n",
        "import matplotlib.pyplot as plt\n",
        "import math\n",
        "\n",
        "import statsmodels.api as sm\n",
        "import statsmodels.formula.api as smf\n",
        "from statsmodels.tools.eval_measures import rmse\n",
        "\n",
        "from sklearn import metrics\n",
        "from sklearn.linear_model import LinearRegression\n",
        "from sklearn.linear_model import LogisticRegression\n",
        "from sklearn.model_selection import train_test_split"
      ],
      "execution_count": 1,
      "outputs": [
        {
          "output_type": "stream",
          "name": "stderr",
          "text": [
            "/usr/local/lib/python3.7/dist-packages/statsmodels/tools/_testing.py:19: FutureWarning: pandas.util.testing is deprecated. Use the functions in the public API at pandas.testing instead.\n",
            "  import pandas.util.testing as tm\n"
          ]
        }
      ]
    },
    {
      "cell_type": "code",
      "metadata": {
        "id": "oy9z9iT6y6mB"
      },
      "source": [
        "pd.options.display.float_format = '{:.2f}'.format"
      ],
      "execution_count": 2,
      "outputs": []
    },
    {
      "cell_type": "code",
      "metadata": {
        "id": "Ty4Ci_Vqnyx8"
      },
      "source": [
        "df = pd.read_csv(\"../datasets/advertising.csv\")"
      ],
      "execution_count": 8,
      "outputs": []
    },
    {
      "cell_type": "code",
      "metadata": {
        "id": "MK-lQBQbofCY"
      },
      "source": [
        "df['Ventas'] = df['Ventas']*100"
      ],
      "execution_count": 9,
      "outputs": []
    },
    {
      "cell_type": "code",
      "metadata": {
        "colab": {
          "base_uri": "https://localhost:8080/",
          "height": 424
        },
        "id": "bO2SSHMIouxP",
        "outputId": "67381907-ec30-4b2a-eaae-a8dbc42992eb"
      },
      "source": [
        "df"
      ],
      "execution_count": 10,
      "outputs": [
        {
          "output_type": "execute_result",
          "data": {
            "text/html": [
              "<div>\n",
              "<style scoped>\n",
              "    .dataframe tbody tr th:only-of-type {\n",
              "        vertical-align: middle;\n",
              "    }\n",
              "\n",
              "    .dataframe tbody tr th {\n",
              "        vertical-align: top;\n",
              "    }\n",
              "\n",
              "    .dataframe thead th {\n",
              "        text-align: right;\n",
              "    }\n",
              "</style>\n",
              "<table border=\"1\" class=\"dataframe\">\n",
              "  <thead>\n",
              "    <tr style=\"text-align: right;\">\n",
              "      <th></th>\n",
              "      <th>Facebook_Ads</th>\n",
              "      <th>Google_Ads</th>\n",
              "      <th>Radio</th>\n",
              "      <th>Ventas</th>\n",
              "    </tr>\n",
              "  </thead>\n",
              "  <tbody>\n",
              "    <tr>\n",
              "      <th>0</th>\n",
              "      <td>230.10</td>\n",
              "      <td>37.80</td>\n",
              "      <td>69.20</td>\n",
              "      <td>2210.00</td>\n",
              "    </tr>\n",
              "    <tr>\n",
              "      <th>1</th>\n",
              "      <td>44.50</td>\n",
              "      <td>39.30</td>\n",
              "      <td>45.10</td>\n",
              "      <td>1040.00</td>\n",
              "    </tr>\n",
              "    <tr>\n",
              "      <th>2</th>\n",
              "      <td>17.20</td>\n",
              "      <td>45.90</td>\n",
              "      <td>69.30</td>\n",
              "      <td>1200.00</td>\n",
              "    </tr>\n",
              "    <tr>\n",
              "      <th>3</th>\n",
              "      <td>151.50</td>\n",
              "      <td>41.30</td>\n",
              "      <td>58.50</td>\n",
              "      <td>1650.00</td>\n",
              "    </tr>\n",
              "    <tr>\n",
              "      <th>4</th>\n",
              "      <td>180.80</td>\n",
              "      <td>10.80</td>\n",
              "      <td>58.40</td>\n",
              "      <td>1790.00</td>\n",
              "    </tr>\n",
              "    <tr>\n",
              "      <th>...</th>\n",
              "      <td>...</td>\n",
              "      <td>...</td>\n",
              "      <td>...</td>\n",
              "      <td>...</td>\n",
              "    </tr>\n",
              "    <tr>\n",
              "      <th>195</th>\n",
              "      <td>38.20</td>\n",
              "      <td>3.70</td>\n",
              "      <td>13.80</td>\n",
              "      <td>760.00</td>\n",
              "    </tr>\n",
              "    <tr>\n",
              "      <th>196</th>\n",
              "      <td>94.20</td>\n",
              "      <td>4.90</td>\n",
              "      <td>8.10</td>\n",
              "      <td>1400.00</td>\n",
              "    </tr>\n",
              "    <tr>\n",
              "      <th>197</th>\n",
              "      <td>177.00</td>\n",
              "      <td>9.30</td>\n",
              "      <td>6.40</td>\n",
              "      <td>1480.00</td>\n",
              "    </tr>\n",
              "    <tr>\n",
              "      <th>198</th>\n",
              "      <td>283.60</td>\n",
              "      <td>42.00</td>\n",
              "      <td>66.20</td>\n",
              "      <td>2550.00</td>\n",
              "    </tr>\n",
              "    <tr>\n",
              "      <th>199</th>\n",
              "      <td>232.10</td>\n",
              "      <td>8.60</td>\n",
              "      <td>8.70</td>\n",
              "      <td>1840.00</td>\n",
              "    </tr>\n",
              "  </tbody>\n",
              "</table>\n",
              "<p>200 rows × 4 columns</p>\n",
              "</div>"
            ],
            "text/plain": [
              "     Facebook_Ads  Google_Ads  Radio  Ventas\n",
              "0          230.10       37.80  69.20 2210.00\n",
              "1           44.50       39.30  45.10 1040.00\n",
              "2           17.20       45.90  69.30 1200.00\n",
              "3          151.50       41.30  58.50 1650.00\n",
              "4          180.80       10.80  58.40 1790.00\n",
              "..            ...         ...    ...     ...\n",
              "195         38.20        3.70  13.80  760.00\n",
              "196         94.20        4.90   8.10 1400.00\n",
              "197        177.00        9.30   6.40 1480.00\n",
              "198        283.60       42.00  66.20 2550.00\n",
              "199        232.10        8.60   8.70 1840.00\n",
              "\n",
              "[200 rows x 4 columns]"
            ]
          },
          "metadata": {},
          "execution_count": 10
        }
      ]
    },
    {
      "cell_type": "code",
      "metadata": {
        "colab": {
          "base_uri": "https://localhost:8080/",
          "height": 301
        },
        "id": "ALpWTCrNo1p8",
        "outputId": "a24777e2-d7c2-4d40-d851-3ea1fac76816"
      },
      "source": [
        "df.describe()"
      ],
      "execution_count": 11,
      "outputs": [
        {
          "output_type": "execute_result",
          "data": {
            "text/html": [
              "<div>\n",
              "<style scoped>\n",
              "    .dataframe tbody tr th:only-of-type {\n",
              "        vertical-align: middle;\n",
              "    }\n",
              "\n",
              "    .dataframe tbody tr th {\n",
              "        vertical-align: top;\n",
              "    }\n",
              "\n",
              "    .dataframe thead th {\n",
              "        text-align: right;\n",
              "    }\n",
              "</style>\n",
              "<table border=\"1\" class=\"dataframe\">\n",
              "  <thead>\n",
              "    <tr style=\"text-align: right;\">\n",
              "      <th></th>\n",
              "      <th>Facebook_Ads</th>\n",
              "      <th>Google_Ads</th>\n",
              "      <th>Radio</th>\n",
              "      <th>Ventas</th>\n",
              "    </tr>\n",
              "  </thead>\n",
              "  <tbody>\n",
              "    <tr>\n",
              "      <th>count</th>\n",
              "      <td>200.00</td>\n",
              "      <td>200.00</td>\n",
              "      <td>200.00</td>\n",
              "      <td>200.00</td>\n",
              "    </tr>\n",
              "    <tr>\n",
              "      <th>mean</th>\n",
              "      <td>147.04</td>\n",
              "      <td>23.26</td>\n",
              "      <td>30.55</td>\n",
              "      <td>1513.05</td>\n",
              "    </tr>\n",
              "    <tr>\n",
              "      <th>std</th>\n",
              "      <td>85.85</td>\n",
              "      <td>14.85</td>\n",
              "      <td>21.78</td>\n",
              "      <td>528.39</td>\n",
              "    </tr>\n",
              "    <tr>\n",
              "      <th>min</th>\n",
              "      <td>0.70</td>\n",
              "      <td>0.00</td>\n",
              "      <td>0.30</td>\n",
              "      <td>160.00</td>\n",
              "    </tr>\n",
              "    <tr>\n",
              "      <th>25%</th>\n",
              "      <td>74.38</td>\n",
              "      <td>9.97</td>\n",
              "      <td>12.75</td>\n",
              "      <td>1100.00</td>\n",
              "    </tr>\n",
              "    <tr>\n",
              "      <th>50%</th>\n",
              "      <td>149.75</td>\n",
              "      <td>22.90</td>\n",
              "      <td>25.75</td>\n",
              "      <td>1600.00</td>\n",
              "    </tr>\n",
              "    <tr>\n",
              "      <th>75%</th>\n",
              "      <td>218.82</td>\n",
              "      <td>36.52</td>\n",
              "      <td>45.10</td>\n",
              "      <td>1905.00</td>\n",
              "    </tr>\n",
              "    <tr>\n",
              "      <th>max</th>\n",
              "      <td>296.40</td>\n",
              "      <td>49.60</td>\n",
              "      <td>114.00</td>\n",
              "      <td>2700.00</td>\n",
              "    </tr>\n",
              "  </tbody>\n",
              "</table>\n",
              "</div>"
            ],
            "text/plain": [
              "       Facebook_Ads  Google_Ads  Radio  Ventas\n",
              "count        200.00      200.00 200.00  200.00\n",
              "mean         147.04       23.26  30.55 1513.05\n",
              "std           85.85       14.85  21.78  528.39\n",
              "min            0.70        0.00   0.30  160.00\n",
              "25%           74.38        9.97  12.75 1100.00\n",
              "50%          149.75       22.90  25.75 1600.00\n",
              "75%          218.82       36.52  45.10 1905.00\n",
              "max          296.40       49.60 114.00 2700.00"
            ]
          },
          "metadata": {},
          "execution_count": 11
        }
      ]
    },
    {
      "cell_type": "code",
      "metadata": {
        "colab": {
          "base_uri": "https://localhost:8080/",
          "height": 322
        },
        "id": "z3-AvIgbo8Dy",
        "outputId": "6c06d7e8-bc91-46dc-9b46-211540062700"
      },
      "source": [
        "sns.pairplot(df,x_vars=['Facebook_Ads','Google_Ads','Radio'], y_vars='Ventas', height=4, aspect=1)"
      ],
      "execution_count": 12,
      "outputs": [
        {
          "output_type": "execute_result",
          "data": {
            "text/plain": [
              "<seaborn.axisgrid.PairGrid at 0x7f0a20c8e3d0>"
            ]
          },
          "metadata": {},
          "execution_count": 12
        },
        {
          "output_type": "display_data",
          "data": {
            "image/png": "[encoded data removed]",
            "text/plain": [
              "<Figure size 864x288 with 3 Axes>"
            ]
          },
          "metadata": {
            "needs_background": "light"
          }
        }
      ]
    },
    {
      "cell_type": "code",
      "metadata": {
        "colab": {
          "base_uri": "https://localhost:8080/",
          "height": 322
        },
        "id": "SPpR5f9SpODM",
        "outputId": "3105bc44-ca44-4bf3-f141-d33cb22f5d2e"
      },
      "source": [
        "sns.pairplot(df,x_vars=['Facebook_Ads','Google_Ads','Radio'], y_vars='Ventas', height=4, aspect=1, kind='reg')"
      ],
      "execution_count": 13,
      "outputs": [
        {
          "output_type": "execute_result",
          "data": {
            "text/plain": [
              "<seaborn.axisgrid.PairGrid at 0x7f0a182bdd50>"
            ]
          },
          "metadata": {},
          "execution_count": 13
        },
        {
          "output_type": "display_data",
          "data": {
            "image/png": "[encoded data removed]",
            "text/plain": [
              "<Figure size 864x288 with 3 Axes>"
            ]
          },
          "metadata": {
            "needs_background": "light"
          }
        }
      ]
    },
    {
      "cell_type": "code",
      "metadata": {
        "colab": {
          "base_uri": "https://localhost:8080/",
          "height": 355
        },
        "id": "5Yek_ugHpyP1",
        "outputId": "b821dcc7-6777-4475-c74b-36f6a38b840c"
      },
      "source": [
        "sns.distplot(df.Ventas, bins=10, color='blue', hist=True)"
      ],
      "execution_count": 14,
      "outputs": [
        {
          "output_type": "stream",
          "name": "stderr",
          "text": [
            "/usr/local/lib/python3.7/dist-packages/seaborn/distributions.py:2619: FutureWarning: `distplot` is a deprecated function and will be removed in a future version. Please adapt your code to use either `displot` (a figure-level function with similar flexibility) or `histplot` (an axes-level function for histograms).\n",
            "  warnings.warn(msg, FutureWarning)\n"
          ]
        },
        {
          "output_type": "execute_result",
          "data": {
            "text/plain": [
              "<matplotlib.axes._subplots.AxesSubplot at 0x7f0a17d01b10>"
            ]
          },
          "metadata": {},
          "execution_count": 14
        },
        {
          "output_type": "display_data",
          "data": {
            "image/png": "[encoded data removed]",
            "text/plain": [
              "<Figure size 432x288 with 1 Axes>"
            ]
          },
          "metadata": {
            "needs_background": "light"
          }
        }
      ]
    },
    {
      "cell_type": "code",
      "metadata": {
        "id": "05bTgut_rH1Z"
      },
      "source": [
        "model = smf.ols(formula='Ventas ~ Facebook_Ads + Google_Ads + Radio', data=df)"
      ],
      "execution_count": 15,
      "outputs": []
    },
    {
      "cell_type": "code",
      "metadata": {
        "id": "pC3QmpbTrqpk"
      },
      "source": [
        "resultado = model.fit()"
      ],
      "execution_count": 17,
      "outputs": []
    },
    {
      "cell_type": "code",
      "metadata": {
        "colab": {
          "base_uri": "https://localhost:8080/"
        },
        "id": "IAi5zwyPrvHW",
        "outputId": "d31e432a-95d2-4fbf-c27b-c73b46e26a46"
      },
      "source": [
        "print(resultado.params)"
      ],
      "execution_count": 18,
      "outputs": [
        {
          "output_type": "stream",
          "name": "stdout",
          "text": [
            "Intercept      462.51\n",
            "Facebook_Ads     5.44\n",
            "Google_Ads      10.70\n",
            "Radio            0.03\n",
            "dtype: float64\n"
          ]
        }
      ]
    },
    {
      "cell_type": "code",
      "metadata": {
        "colab": {
          "base_uri": "https://localhost:8080/"
        },
        "id": "INJni1c_rvIf",
        "outputId": "75458ee2-7985-4327-f631-fd9f5f240394"
      },
      "source": [
        "print(resultado.summary)"
      ],
      "execution_count": 19,
      "outputs": [
        {
          "output_type": "stream",
          "name": "stdout",
          "text": [
            "<bound method RegressionResults.summary of <statsmodels.regression.linear_model.OLSResults object at 0x7f0a17d5d3d0>>\n"
          ]
        }
      ]
    },
    {
      "cell_type": "markdown",
      "metadata": {
        "id": "VQ4CiYxksRM3"
      },
      "source": [
        "# Ventas = 462.51 + (5.44)Facebook_Ads + (10.70)Google_Ads + (0.03)Radio"
      ]
    },
    {
      "cell_type": "code",
      "metadata": {
        "colab": {
          "base_uri": "https://localhost:8080/"
        },
        "id": "-Ca-SljFs2xn",
        "outputId": "d51b54ad-fcd3-4c58-b6ed-24d13584620c"
      },
      "source": [
        "!pip install pulp"
      ],
      "execution_count": 20,
      "outputs": [
        {
          "output_type": "stream",
          "name": "stdout",
          "text": [
            "Collecting pulp\n",
            "  Downloading PuLP-2.5.1-py3-none-any.whl (41.2 MB)\n",
            "\u001b[K     |████████████████████████████████| 41.2 MB 79 kB/s \n",
            "\u001b[?25hInstalling collected packages: pulp\n",
            "Successfully installed pulp-2.5.1\n"
          ]
        }
      ]
    },
    {
      "cell_type": "code",
      "metadata": {
        "colab": {
          "base_uri": "https://localhost:8080/"
        },
        "id": "Zi9pUMAttN3y",
        "outputId": "cb3480bb-294d-4c24-8e0a-e135853cd94a"
      },
      "source": [
        "from pulp import *\n",
        "prob = LpProblem(\"Optimizacion de presupuesto\",LpMaximize)"
      ],
      "execution_count": 21,
      "outputs": [
        {
          "output_type": "stream",
          "name": "stderr",
          "text": [
            "/usr/local/lib/python3.7/dist-packages/pulp/pulp.py:1313: UserWarning: Spaces are not permitted in the name. Converted to '_'\n",
            "  warnings.warn(\"Spaces are not permitted in the name. Converted to '_'\")\n"
          ]
        }
      ]
    },
    {
      "cell_type": "markdown",
      "metadata": {
        "id": "XVvwV-tNt8It"
      },
      "source": [
        "x - Facebook_Ads\n",
        "y - Google_Ads\n",
        "z - Radio"
      ]
    },
    {
      "cell_type": "code",
      "metadata": {
        "id": "u2VGmrtetutk"
      },
      "source": [
        "x = LpVariable(\"x\",0,200)\n",
        "y = LpVariable(\"y\",0,500)\n",
        "z = LpVariable(\"z\",0,500)"
      ],
      "execution_count": 22,
      "outputs": []
    },
    {
      "cell_type": "code",
      "metadata": {
        "id": "j-P-5NdguvM5"
      },
      "source": [
        "prob += x + y +z <= 1000"
      ],
      "execution_count": 23,
      "outputs": []
    },
    {
      "cell_type": "code",
      "metadata": {
        "id": "ZAVS3fqBvP78"
      },
      "source": [
        "prob += 462.51 + 5.44*x + 10.70*y + 0.03*z"
      ],
      "execution_count": 24,
      "outputs": []
    },
    {
      "cell_type": "code",
      "metadata": {
        "colab": {
          "base_uri": "https://localhost:8080/",
          "height": 36
        },
        "id": "1O4P5MymvpyW",
        "outputId": "59ef29bb-4bc9-42ff-be94-59d0cf92e24e"
      },
      "source": [
        "status = prob.solve()\n",
        "LpStatus[status]"
      ],
      "execution_count": 25,
      "outputs": [
        {
          "output_type": "execute_result",
          "data": {
            "application/vnd.google.colaboratory.intrinsic+json": {
              "type": "string"
            },
            "text/plain": [
              "'Optimal'"
            ]
          },
          "metadata": {},
          "execution_count": 25
        }
      ]
    },
    {
      "cell_type": "code",
      "metadata": {
        "colab": {
          "base_uri": "https://localhost:8080/"
        },
        "id": "O2i_HAwBv7zB",
        "outputId": "ee742863-cde8-48d1-b2c7-081f5b2735c6"
      },
      "source": [
        "print(prob)"
      ],
      "execution_count": 26,
      "outputs": [
        {
          "output_type": "stream",
          "name": "stdout",
          "text": [
            "Optimizacion_de_presupuesto:\n",
            "MAXIMIZE\n",
            "5.44*x + 10.7*y + 0.03*z + 462.51\n",
            "SUBJECT TO\n",
            "_C1: x + y + z <= 1000\n",
            "\n",
            "VARIABLES\n",
            "x <= 200 Continuous\n",
            "y <= 500 Continuous\n",
            "z <= 500 Continuous\n",
            "\n"
          ]
        }
      ]
    },
    {
      "cell_type": "code",
      "metadata": {
        "colab": {
          "base_uri": "https://localhost:8080/"
        },
        "id": "1zsa-215v_ll",
        "outputId": "bd790b57-3b4b-44fe-8540-82f8c1ce1b7d"
      },
      "source": [
        "for v in prob.variables():\n",
        "  print(v.name, \"=\", v.varValue)"
      ],
      "execution_count": 27,
      "outputs": [
        {
          "output_type": "stream",
          "name": "stdout",
          "text": [
            "x = 200.0\n",
            "y = 500.0\n",
            "z = 300.0\n"
          ]
        }
      ]
    },
    {
      "cell_type": "code",
      "metadata": {
        "colab": {
          "base_uri": "https://localhost:8080/"
        },
        "id": "_kxuBHiywn0H",
        "outputId": "fde6ea71-b834-4545-bde8-e68d5316e678"
      },
      "source": [
        "ventas_maximas = 462.51 + 5.44*200.0 + 10.70*500.0 + 0.03*300.0\n",
        "ventas_maximas"
      ],
      "execution_count": 28,
      "outputs": [
        {
          "output_type": "execute_result",
          "data": {
            "text/plain": [
              "6909.51"
            ]
          },
          "metadata": {},
          "execution_count": 28
        }
      ]
    },
    {
      "cell_type": "code",
      "metadata": {
        "id": "WJC1puDBw6AJ",
        "colab": {
          "base_uri": "https://localhost:8080/",
          "height": 301
        },
        "outputId": "5de0de95-dcf6-4f29-8473-836c9b71a525"
      },
      "source": [
        "df.describe()"
      ],
      "execution_count": 29,
      "outputs": [
        {
          "output_type": "execute_result",
          "data": {
            "text/html": [
              "<div>\n",
              "<style scoped>\n",
              "    .dataframe tbody tr th:only-of-type {\n",
              "        vertical-align: middle;\n",
              "    }\n",
              "\n",
              "    .dataframe tbody tr th {\n",
              "        vertical-align: top;\n",
              "    }\n",
              "\n",
              "    .dataframe thead th {\n",
              "        text-align: right;\n",
              "    }\n",
              "</style>\n",
              "<table border=\"1\" class=\"dataframe\">\n",
              "  <thead>\n",
              "    <tr style=\"text-align: right;\">\n",
              "      <th></th>\n",
              "      <th>Facebook_Ads</th>\n",
              "      <th>Google_Ads</th>\n",
              "      <th>Radio</th>\n",
              "      <th>Ventas</th>\n",
              "    </tr>\n",
              "  </thead>\n",
              "  <tbody>\n",
              "    <tr>\n",
              "      <th>count</th>\n",
              "      <td>200.00</td>\n",
              "      <td>200.00</td>\n",
              "      <td>200.00</td>\n",
              "      <td>200.00</td>\n",
              "    </tr>\n",
              "    <tr>\n",
              "      <th>mean</th>\n",
              "      <td>147.04</td>\n",
              "      <td>23.26</td>\n",
              "      <td>30.55</td>\n",
              "      <td>1513.05</td>\n",
              "    </tr>\n",
              "    <tr>\n",
              "      <th>std</th>\n",
              "      <td>85.85</td>\n",
              "      <td>14.85</td>\n",
              "      <td>21.78</td>\n",
              "      <td>528.39</td>\n",
              "    </tr>\n",
              "    <tr>\n",
              "      <th>min</th>\n",
              "      <td>0.70</td>\n",
              "      <td>0.00</td>\n",
              "      <td>0.30</td>\n",
              "      <td>160.00</td>\n",
              "    </tr>\n",
              "    <tr>\n",
              "      <th>25%</th>\n",
              "      <td>74.38</td>\n",
              "      <td>9.97</td>\n",
              "      <td>12.75</td>\n",
              "      <td>1100.00</td>\n",
              "    </tr>\n",
              "    <tr>\n",
              "      <th>50%</th>\n",
              "      <td>149.75</td>\n",
              "      <td>22.90</td>\n",
              "      <td>25.75</td>\n",
              "      <td>1600.00</td>\n",
              "    </tr>\n",
              "    <tr>\n",
              "      <th>75%</th>\n",
              "      <td>218.82</td>\n",
              "      <td>36.52</td>\n",
              "      <td>45.10</td>\n",
              "      <td>1905.00</td>\n",
              "    </tr>\n",
              "    <tr>\n",
              "      <th>max</th>\n",
              "      <td>296.40</td>\n",
              "      <td>49.60</td>\n",
              "      <td>114.00</td>\n",
              "      <td>2700.00</td>\n",
              "    </tr>\n",
              "  </tbody>\n",
              "</table>\n",
              "</div>"
            ],
            "text/plain": [
              "       Facebook_Ads  Google_Ads  Radio  Ventas\n",
              "count        200.00      200.00 200.00  200.00\n",
              "mean         147.04       23.26  30.55 1513.05\n",
              "std           85.85       14.85  21.78  528.39\n",
              "min            0.70        0.00   0.30  160.00\n",
              "25%           74.38        9.97  12.75 1100.00\n",
              "50%          149.75       22.90  25.75 1600.00\n",
              "75%          218.82       36.52  45.10 1905.00\n",
              "max          296.40       49.60 114.00 2700.00"
            ]
          },
          "metadata": {},
          "execution_count": 29
        }
      ]
    }
  ]
}